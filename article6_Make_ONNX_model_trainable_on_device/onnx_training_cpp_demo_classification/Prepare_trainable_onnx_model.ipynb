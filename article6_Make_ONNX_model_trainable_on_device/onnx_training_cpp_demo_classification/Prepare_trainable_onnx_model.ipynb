{
 "cells": [
  {
   "cell_type": "code",
   "execution_count": 1,
   "id": "8f4f7a8e-0c25-4344-9cba-ec60ccd4e828",
   "metadata": {},
   "outputs": [],
   "source": [
    "import torch\n",
    "import torch.nn as nn\n",
    "import numpy as np\n",
    "import onnx\n",
    "from onnxruntime.training import artifacts\n",
    "import torch.nn.functional as F\n"
   ]
  },
  {
   "cell_type": "code",
   "execution_count": 2,
   "id": "5fda1f82-746b-484b-beeb-bb3885f55b71",
   "metadata": {},
   "outputs": [
    {
     "data": {
      "text/plain": [
       "('2.1.0', '1.14.1')"
      ]
     },
     "execution_count": 2,
     "metadata": {},
     "output_type": "execute_result"
    }
   ],
   "source": [
    "torch.__version__, onnx.__version__"
   ]
  },
  {
   "cell_type": "code",
   "execution_count": 3,
   "id": "de23ceab-7a72-446d-a754-de50fafb01c6",
   "metadata": {},
   "outputs": [
    {
     "data": {
      "text/plain": [
       "'1.16.3'"
      ]
     },
     "execution_count": 3,
     "metadata": {},
     "output_type": "execute_result"
    }
   ],
   "source": [
    "import onnxruntime\n",
    "onnxruntime.__version__"
   ]
  },
  {
   "cell_type": "code",
   "execution_count": 4,
   "metadata": {},
   "outputs": [],
   "source": [
    "\n",
    "class LSTMNumberPredictor(nn.Module):\n",
    "    def __init__(self, num_classes, hidden_dim, num_layers):\n",
    "        super(LSTMNumberPredictor, self).__init__()\n",
    "        self.hidden_dim = hidden_dim\n",
    "        self.num_layers = num_layers\n",
    "\n",
    "        # LSTM layer\n",
    "        self.lstm = nn.LSTM(input_size=1, hidden_size=hidden_dim, num_layers=num_layers, batch_first=True)\n",
    "        \n",
    "        # Fully connected layer\n",
    "        self.fc = nn.Linear(hidden_dim, num_classes)\n",
    "    \n",
    "    def forward(self, x):\n",
    "        # Initializing hidden state for first input\n",
    "        h0 = torch.zeros(self.num_layers, x.size(0), self.hidden_dim)\n",
    "        c0 = torch.zeros(self.num_layers, x.size(0), self.hidden_dim)\n",
    "        \n",
    "        # Forward propagate LSTM\n",
    "        out, _ = self.lstm(x, (h0, c0))  # out: tensor of shape (batch_size, seq_length, hidden_dim)\n",
    "        # out, _ = self.lstm(x)\n",
    "        \n",
    "        # Decode the hidden state of the last time step\n",
    "        out = self.fc(out[:, -1, :])\n",
    "        return out\n",
    "\n",
    "# Example usage:\n",
    "model = LSTMNumberPredictor(num_classes=3, hidden_dim=50, num_layers=1)"
   ]
  },
  {
   "cell_type": "code",
   "execution_count": 5,
   "metadata": {},
   "outputs": [],
   "source": [
    "\n",
    "# class GRUNumberPredictor(nn.Module):\n",
    "#     def __init__(self, num_classes, hidden_dim, num_layers):\n",
    "#         super(GRUNumberPredictor, self).__init__()\n",
    "#         self.hidden_dim = hidden_dim\n",
    "#         self.num_layers = num_layers\n",
    "\n",
    "#         # GRU layer\n",
    "#         self.gru = nn.GRU(input_size=1, hidden_size=hidden_dim, num_layers=num_layers, batch_first=True)\n",
    "        \n",
    "#         # Fully connected layer\n",
    "#         self.fc = nn.Linear(hidden_dim, num_classes)\n",
    "    \n",
    "#     def forward(self, x):\n",
    "#         # Initializing hidden state for first input\n",
    "#         h0 = torch.zeros(self.num_layers, x.size(0), self.hidden_dim).to(x.device)\n",
    "        \n",
    "#         # Forward propagate GRU\n",
    "#         out, _ = self.gru(x, h0)  # out: tensor of shape (batch_size, seq_length, hidden_dim)\n",
    "        \n",
    "#         # Decode the hidden state of the last time step\n",
    "#         out = self.fc(out[:, -1, :])\n",
    "#         return out\n",
    "\n",
    "# # Example usage:\n",
    "# model = GRUNumberPredictor(num_classes=3, hidden_dim=50, num_layers=1)\n"
   ]
  },
  {
   "cell_type": "code",
   "execution_count": 6,
   "metadata": {},
   "outputs": [],
   "source": [
    "\n",
    "\n",
    "# class FCSequencePredictor(nn.Module):\n",
    "#     def __init__(self, input_size, hidden_dim, num_classes):\n",
    "#         super(FCSequencePredictor, self).__init__()\n",
    "        \n",
    "#         self.embedding = nn.Embedding(num_classes, 2)\n",
    "#         # Fully connected layers\n",
    "#         self.fc1 = nn.Linear(2*16, hidden_dim)\n",
    "#         self.fc2 = nn.Linear(hidden_dim, hidden_dim)\n",
    "#         self.fc3 = nn.Linear(hidden_dim, num_classes)\n",
    "    \n",
    "#     def forward(self, x):\n",
    "#         # Flatten the sequence\n",
    "#         x = x.view(x.size(0), -1)\n",
    "#         x = self.embedding(x)\n",
    "#         x = x.view(x.size(0), -1)\n",
    "\n",
    "#         # Forward through fully connected layers\n",
    "#         x = F.relu(self.fc1(x))\n",
    "#         x = F.relu(self.fc2(x))\n",
    "#         return self.fc3(x)\n",
    "\n",
    "\n",
    "# # Example usage:\n",
    "# # Assuming each number in the sequence is represented by a single feature\n",
    "# sequence_length = 16\n",
    "# num_features_per_number = 1\n",
    "# input_size = sequence_length * num_features_per_number\n",
    "# hidden_dim = 50\n",
    "# num_classes = 3\n",
    "\n",
    "# model = FCSequencePredictor(input_size, hidden_dim, num_classes)"
   ]
  },
  {
   "cell_type": "code",
   "execution_count": 7,
   "metadata": {},
   "outputs": [],
   "source": [
    "def generate_sequence_data(sequence, sequence_length=16):\n",
    "    \"\"\"\n",
    "    Generates training data from a sequence for a model, ensuring all sequences grow in length\n",
    "    and are of a fixed length by padding with zeros.\n",
    "\n",
    "    Parameters:\n",
    "    sequence (list): The full sequence of numbers.\n",
    "    sequence_length (int): Fixed length of the subsequences to be generated (default is 16).\n",
    "\n",
    "    Returns:\n",
    "    torch.Tensor: Generated subsequences of fixed length.\n",
    "    torch.Tensor: Labels for each subsequence.\n",
    "    \"\"\"\n",
    "    subsequences = []\n",
    "    labels = []\n",
    "\n",
    "    for i in range(1, len(sequence) + 1):\n",
    "        # Take the first i elements of the sequence and pad with zeros to make the length sequence_length\n",
    "        subsequence = [0] * (sequence_length - i) + sequence[:i]\n",
    "        label = sequence[i] if i < len(sequence) else sequence[0]\n",
    "\n",
    "        subsequences.append(subsequence)\n",
    "        labels.append(label)\n",
    "\n",
    "    return torch.tensor(subsequences, dtype=torch.float32), torch.tensor(labels, dtype=torch.long)\n"
   ]
  },
  {
   "cell_type": "code",
   "execution_count": 8,
   "metadata": {},
   "outputs": [],
   "source": [
    "import torch.optim as optim\n",
    "\n",
    "# Parameters\n",
    "sequence_length = 16  # Length of the subsequences\n",
    "learning_rate = 0.001\n",
    "num_epochs = 100     # Number of epochs for training\n",
    "\n",
    "\n",
    "# Loss and optimizer\n",
    "criterion = nn.CrossEntropyLoss()\n",
    "optimizer = optim.Adam(model.parameters(), lr=learning_rate)\n",
    "\n",
    "# Example sequence\n",
    "full_sequence = [0, 1, 2, 0, 1, 2, 0, 1, 2]\n",
    "\n",
    "# Generate data\n",
    "X, y = generate_sequence_data(full_sequence, sequence_length)\n"
   ]
  },
  {
   "cell_type": "code",
   "execution_count": 9,
   "metadata": {},
   "outputs": [
    {
     "data": {
      "text/plain": [
       "(torch.float32, torch.int64)"
      ]
     },
     "execution_count": 9,
     "metadata": {},
     "output_type": "execute_result"
    }
   ],
   "source": [
    "X.dtype, y.dtype"
   ]
  },
  {
   "cell_type": "code",
   "execution_count": 10,
   "metadata": {},
   "outputs": [
    {
     "data": {
      "text/plain": [
       "torch.Size([9, 16])"
      ]
     },
     "execution_count": 10,
     "metadata": {},
     "output_type": "execute_result"
    }
   ],
   "source": [
    "X.shape"
   ]
  },
  {
   "cell_type": "code",
   "execution_count": 11,
   "metadata": {},
   "outputs": [
    {
     "data": {
      "text/plain": [
       "LSTMNumberPredictor(\n",
       "  (lstm): LSTM(1, 50, batch_first=True)\n",
       "  (fc): Linear(in_features=50, out_features=3, bias=True)\n",
       ")"
      ]
     },
     "execution_count": 11,
     "metadata": {},
     "output_type": "execute_result"
    }
   ],
   "source": [
    "\n",
    "# Reshape input suitable for LSTM (batch_size, seq_length, input_size)\n",
    "X = X.unsqueeze(-1)\n",
    "X = X.to('cpu')\n",
    "model.to('cpu')"
   ]
  },
  {
   "cell_type": "code",
   "execution_count": 12,
   "metadata": {},
   "outputs": [
    {
     "name": "stdout",
     "output_type": "stream",
     "text": [
      "Epoch [10/100], Loss: 1.0832\n",
      "Epoch [20/100], Loss: 1.0664\n",
      "Epoch [30/100], Loss: 1.0419\n",
      "Epoch [40/100], Loss: 1.0035\n",
      "Epoch [50/100], Loss: 0.9690\n",
      "Epoch [60/100], Loss: 0.9164\n",
      "Epoch [70/100], Loss: 0.8341\n",
      "Epoch [80/100], Loss: 0.7342\n",
      "Epoch [90/100], Loss: 0.6069\n",
      "Epoch [100/100], Loss: 0.4682\n"
     ]
    }
   ],
   "source": [
    "\n",
    "# Training loop\n",
    "for epoch in range(num_epochs):\n",
    "    model.train()\n",
    "    optimizer.zero_grad()\n",
    "\n",
    "    # Forward pass\n",
    "    outputs = model(X)\n",
    "    loss = criterion(outputs, y)\n",
    "\n",
    "    # Backward and optimize\n",
    "    loss.backward()\n",
    "    optimizer.step()\n",
    "\n",
    "    if (epoch+1) % 10 == 0:\n",
    "        print(f'Epoch [{epoch+1}/{num_epochs}], Loss: {loss.item():.4f}')\n"
   ]
  },
  {
   "cell_type": "code",
   "execution_count": 13,
   "id": "8cbe1d18-b92c-4bfc-aba1-e38bc00adb31",
   "metadata": {},
   "outputs": [],
   "source": [
    "import torch.onnx\n",
    "\n",
    "# Set the model to evaluation mode\n",
    "model.eval()\n",
    "\n",
    "# Sample input for the model\n",
    "sample_input = X[:3]"
   ]
  },
  {
   "cell_type": "code",
   "execution_count": 14,
   "id": "3c112354-fb38-4a7a-a379-f33c355d261c",
   "metadata": {},
   "outputs": [
    {
     "name": "stderr",
     "output_type": "stream",
     "text": [
      "/opt/homebrew/anaconda3/envs/onnx_on_device/lib/python3.10/site-packages/torch/onnx/symbolic_opset9.py:4661: UserWarning: Exporting a model to ONNX with a batch_size other than 1, with a variable length with LSTM can cause an error when running the ONNX model with a different batch size. Make sure to save the model with a batch size of 1, or define the initial states (h0/c0) as inputs of the model. \n",
      "  warnings.warn(\n"
     ]
    },
    {
     "data": {
      "text/plain": [
       "'classification_model.onnx'"
      ]
     },
     "execution_count": 14,
     "metadata": {},
     "output_type": "execute_result"
    }
   ],
   "source": [
    "# Export the model to ONNX format\n",
    "onnx_model_path = 'classification_model.onnx'\n",
    "torch.onnx.export(model, sample_input, onnx_model_path, export_params=True, opset_version=17, \n",
    "                  do_constant_folding=True, input_names=['input'], output_names=['output'],\n",
    "                 dynamic_axes={'input' : {0: 'batch'},    # variable length axes\n",
    "                                'output' : {0: 'batch'}})\n",
    "\n",
    "onnx_model_path"
   ]
  },
  {
   "cell_type": "code",
   "execution_count": 15,
   "id": "7005dba0-9b0c-4a8b-9be3-a93e6d16f4cb",
   "metadata": {},
   "outputs": [],
   "source": [
    "\n",
    "model = onnx.load(\"classification_model.onnx\")\n",
    "onnx.checker.check_model(model)"
   ]
  },
  {
   "cell_type": "code",
   "execution_count": 16,
   "id": "1d450cc7-d5e8-4bf0-9b7f-ea75baef2576",
   "metadata": {},
   "outputs": [],
   "source": [
    "import onnxruntime\n",
    "\n",
    "ort_session = onnxruntime.InferenceSession(\"classification_model.onnx\", providers=[\"CPUExecutionProvider\"])\n",
    "\n",
    "ort_inputs = {ort_session.get_inputs()[0].name: sample_input.detach().numpy()}\n",
    "\n",
    "ort_outs = ort_session.run(None, ort_inputs)"
   ]
  },
  {
   "cell_type": "code",
   "execution_count": 17,
   "id": "43842c2a-ae4f-401f-8bb5-4170a8cb9683",
   "metadata": {},
   "outputs": [
    {
     "data": {
      "text/plain": [
       "(tensor([[[0.],\n",
       "          [0.],\n",
       "          [0.],\n",
       "          [0.],\n",
       "          [0.],\n",
       "          [0.],\n",
       "          [0.],\n",
       "          [0.],\n",
       "          [0.],\n",
       "          [0.],\n",
       "          [0.],\n",
       "          [0.],\n",
       "          [0.],\n",
       "          [0.],\n",
       "          [0.],\n",
       "          [0.]],\n",
       " \n",
       "         [[0.],\n",
       "          [0.],\n",
       "          [0.],\n",
       "          [0.],\n",
       "          [0.],\n",
       "          [0.],\n",
       "          [0.],\n",
       "          [0.],\n",
       "          [0.],\n",
       "          [0.],\n",
       "          [0.],\n",
       "          [0.],\n",
       "          [0.],\n",
       "          [0.],\n",
       "          [0.],\n",
       "          [1.]],\n",
       " \n",
       "         [[0.],\n",
       "          [0.],\n",
       "          [0.],\n",
       "          [0.],\n",
       "          [0.],\n",
       "          [0.],\n",
       "          [0.],\n",
       "          [0.],\n",
       "          [0.],\n",
       "          [0.],\n",
       "          [0.],\n",
       "          [0.],\n",
       "          [0.],\n",
       "          [0.],\n",
       "          [1.],\n",
       "          [2.]]]),\n",
       " [array([[-0.6776786 ,  0.7952337 ,  0.60444725],\n",
       "         [-0.02636533,  0.19971812,  0.42790872],\n",
       "         [ 0.69669235, -0.132533  , -0.2734946 ]], dtype=float32)])"
      ]
     },
     "execution_count": 17,
     "metadata": {},
     "output_type": "execute_result"
    }
   ],
   "source": [
    "sample_input, ort_outs"
   ]
  },
  {
   "cell_type": "code",
   "execution_count": 18,
   "id": "c94c3e37-ff30-4ade-9f3b-ae093cd81af8",
   "metadata": {},
   "outputs": [],
   "source": [
    "\n",
    "\n",
    "# Assuming the path to the forward-only ONNX model is provided\n",
    "path_to_forward_only_onnx_model = 'classification_model.onnx'\n",
    "\n",
    "# Load the forward-only ONNX model\n",
    "model = onnx.load(path_to_forward_only_onnx_model)\n",
    "\n",
    "# Extract model's parameters\n",
    "all_params = [param.name for param in model.graph.initializer]"
   ]
  },
  {
   "cell_type": "code",
   "execution_count": 19,
   "id": "2d38897d-1479-4b92-a3a6-3d978523b158",
   "metadata": {},
   "outputs": [
    {
     "data": {
      "text/plain": [
       "['fc.weight', 'fc.bias', 'onnx::LSTM_109', 'onnx::LSTM_110', 'onnx::LSTM_111']"
      ]
     },
     "execution_count": 19,
     "metadata": {},
     "output_type": "execute_result"
    }
   ],
   "source": [
    "all_params"
   ]
  },
  {
   "cell_type": "code",
   "execution_count": 20,
   "id": "85a7f1c8-582d-4263-8a33-7ebc57360586",
   "metadata": {},
   "outputs": [],
   "source": [
    "import onnxruntime.training.onnxblock as onnxblock\n",
    "from onnxruntime.training import artifacts\n",
    "\n",
    "#  # define the loss function\n",
    "#  class CustomCELoss(onnxblock.Block):\n",
    "#      def __init__(self):\n",
    "#          super().__init__()\n",
    "#          self.celoss = onnxblock.loss.MSELoss()\n",
    "\n",
    "\n",
    "#      def build(self, logits, *args):\n",
    "#          return self.celoss(logits)\n",
    "\n",
    "# class MNISTWithLoss(onnxblock.TrainingBlock):\n",
    "#     def __init__(self):\n",
    "#         super().__init__()\n",
    "#         self.loss = onnxblock.loss.CrossEntropyLoss()\n",
    "\n",
    "#     def build(self, output_name):\n",
    "#         return self.loss(output_name)\n",
    "    \n",
    "# mnist_with_loss = MNISTWithLoss()"
   ]
  },
  {
   "cell_type": "code",
   "execution_count": 21,
   "metadata": {},
   "outputs": [],
   "source": [
    "# with onnxblock.base(model):\n",
    " \n",
    "#     # _ = mnist_with_loss(*[output.name for output in model.graph.output])\n",
    "#     mnist_with_loss(*[output.name for output in model.graph.output])\n",
    "#     # eval_model = model_accessor.eval_model\n",
    "#     training_model, eval_model = mnist_with_loss.to_model_proto()"
   ]
  },
  {
   "cell_type": "code",
   "execution_count": 22,
   "id": "094a59ff-acc9-4210-88d4-afbf6fa50f8c",
   "metadata": {},
   "outputs": [],
   "source": [
    "trainable_layers = ['fc', 'onnx']\n",
    "requires_grad = [param for param in all_params if any(layer in param for layer in trainable_layers)]\n",
    "frozen_params = [param for param in all_params if param not in requires_grad]\n"
   ]
  },
  {
   "cell_type": "code",
   "execution_count": 23,
   "metadata": {},
   "outputs": [
    {
     "data": {
      "text/plain": [
       "(['fc.weight',\n",
       "  'fc.bias',\n",
       "  'onnx::LSTM_109',\n",
       "  'onnx::LSTM_110',\n",
       "  'onnx::LSTM_111'],\n",
       " [])"
      ]
     },
     "execution_count": 23,
     "metadata": {},
     "output_type": "execute_result"
    }
   ],
   "source": [
    "requires_grad, frozen_params"
   ]
  },
  {
   "cell_type": "code",
   "execution_count": 24,
   "metadata": {},
   "outputs": [
    {
     "data": {
      "text/plain": [
       "[name: \"output\"\n",
       "type {\n",
       "  tensor_type {\n",
       "    elem_type: 1\n",
       "    shape {\n",
       "      dim {\n",
       "        dim_param: \"batch\"\n",
       "      }\n",
       "      dim {\n",
       "        dim_value: 3\n",
       "      }\n",
       "    }\n",
       "  }\n",
       "}\n",
       "]"
      ]
     },
     "execution_count": 24,
     "metadata": {},
     "output_type": "execute_result"
    }
   ],
   "source": [
    "model.graph.output"
   ]
  },
  {
   "cell_type": "code",
   "execution_count": 25,
   "metadata": {},
   "outputs": [
    {
     "name": "stderr",
     "output_type": "stream",
     "text": [
      "2023-12-25 14:10:47,329 root [INFO] - Loss function enum provided: CrossEntropyLoss\n",
      "2023-12-25 14:10:47,331 root [DEBUG] - Building training block _TrainingBlock\n",
      "2023-12-25 14:10:47,332 root [DEBUG] - Building block: CrossEntropyLoss\n",
      "2023-12-25 14:10:47,335 root [DEBUG] - Building gradient graph for training block _TrainingBlock\n",
      "2023-12-25 14:10:47,341 root [DEBUG] - The loss output is onnx::loss::2. The gradient graph will be built starting from onnx::loss::2_grad.\n",
      "2023-12-25 14:10:47.339274 [I:onnxruntime:Default, constant_sharing.cc:256 ApplyImpl] Total shared scalar initializer count: 1\n",
      "2023-12-25 14:10:47,346 root [DEBUG] - Adding gradient accumulation nodes for training block _TrainingBlock\n",
      "2023-12-25 14:10:47,349 root [INFO] - Training model path training_artifacts/training_model.onnx already exists. Overwriting.\n",
      "2023-12-25 14:10:47,353 root [INFO] - Saved training model to training_artifacts/training_model.onnx\n",
      "2023-12-25 14:10:47,353 root [INFO] - Eval model path training_artifacts/eval_model.onnx already exists. Overwriting.\n",
      "2023-12-25 14:10:47,356 root [INFO] - Saved eval model to training_artifacts/eval_model.onnx\n",
      "2023-12-25 14:10:47,356 root [INFO] - Checkpoint path training_artifacts/checkpoint already exists. Overwriting.\n",
      "2023-12-25 14:10:47,358 root [INFO] - Saved checkpoint to training_artifacts/checkpoint\n",
      "2023-12-25 14:10:47,358 root [INFO] - Optimizer enum provided: AdamW\n",
      "2023-12-25 14:10:47,358 root [DEBUG] - Building forward block AdamW\n",
      "2023-12-25 14:10:47,358 root [DEBUG] - Building block: AdamWOptimizer\n",
      "2023-12-25 14:10:47,360 root [INFO] - Saved optimizer model to training_artifacts/optimizer_model.onnx\n"
     ]
    },
    {
     "data": {
      "text/plain": [
       "'training_artifacts'"
      ]
     },
     "execution_count": 25,
     "metadata": {},
     "output_type": "execute_result"
    }
   ],
   "source": [
    "\n",
    "# Generate the training artifacts\n",
    "path_to_output_artifact_directory = 'training_artifacts'\n",
    "artifacts.generate_artifacts(model,\n",
    "                             requires_grad=requires_grad,\n",
    "                             frozen_params=frozen_params,\n",
    "                             loss=artifacts.LossType.CrossEntropyLoss,\n",
    "                             optimizer=artifacts.OptimType.AdamW,\n",
    "                             artifact_directory=path_to_output_artifact_directory)\n",
    "\n",
    "# Return the path to output artifact directory\n",
    "path_to_output_artifact_directory"
   ]
  },
  {
   "cell_type": "code",
   "execution_count": 26,
   "id": "be18816b-7c28-48ae-8132-1fb3a829add0",
   "metadata": {},
   "outputs": [],
   "source": [
    "from onnxruntime.training.api import CheckpointState, Module, Optimizer\n",
    "import torch\n",
    "\n",
    "# Assuming the paths are correctly defined\n",
    "path_to_the_checkpoint_artifact = 'training_artifacts/checkpoint'\n",
    "path_to_the_training_model = 'training_artifacts/training_model.onnx'\n",
    "path_to_the_eval_model = 'training_artifacts/eval_model.onnx'\n",
    "path_to_the_optimizer_model = 'training_artifacts/optimizer_model.onnx'\n",
    "\n",
    "# Load the checkpoint state\n",
    "state = CheckpointState.load_checkpoint(path_to_the_checkpoint_artifact)\n",
    "\n",
    "# Create the module\n",
    "module = Module(path_to_the_training_model,\n",
    "                state,\n",
    "                path_to_the_eval_model,\n",
    "                device=\"cpu\")\n",
    "\n",
    "optimizer = Optimizer(path_to_the_optimizer_model, module)"
   ]
  },
  {
   "cell_type": "code",
   "execution_count": 27,
   "id": "d8b56821-ba10-486f-92ca-c6ec94ae76e4",
   "metadata": {},
   "outputs": [],
   "source": [
    "import numpy as np\n",
    "full_sequence = [0, 1, 2, 0, 1, 2, 0, 1, 2]\n",
    "\n",
    "# Generate data\n",
    "X, y = generate_sequence_data(full_sequence, sequence_length)\n",
    "\n",
    "X_train = X.detach().numpy().reshape(-1, 16, 1)\n",
    "y_train = y.detach().numpy()\n"
   ]
  },
  {
   "cell_type": "code",
   "execution_count": 28,
   "metadata": {},
   "outputs": [
    {
     "name": "stdout",
     "output_type": "stream",
     "text": [
      "Epoch 10/100, Training Loss: 0.053898733109235764\n",
      "Epoch 20/100, Training Loss: 0.026195356622338295\n",
      "Epoch 30/100, Training Loss: 0.016082679852843285\n",
      "Epoch 40/100, Training Loss: 0.011428603902459145\n",
      "Epoch 50/100, Training Loss: 0.008008749224245548\n",
      "Epoch 60/100, Training Loss: 0.0059097083285450935\n",
      "Epoch 70/100, Training Loss: 0.004517824854701757\n",
      "Epoch 80/100, Training Loss: 0.0035393708385527134\n",
      "Epoch 90/100, Training Loss: 0.0028287656605243683\n",
      "Epoch 100/100, Training Loss: 0.002304638037458062\n"
     ]
    }
   ],
   "source": [
    "\n",
    "# Define epochs and batch size\n",
    "epochs = 100\n",
    "batch_size = 8  # You can adjust the batch size as needed\n",
    "\n",
    "# Training loop\n",
    "\n",
    "for epoch in range(epochs):\n",
    "    for i in range(0, len(X_train), batch_size):\n",
    "        # Extract batches\n",
    "        batch_X = X_train[i:i + batch_size]\n",
    "        batch_y = y_train[i:i + batch_size]\n",
    "\n",
    "        # Set the module to training mode\n",
    "        module.train()\n",
    "\n",
    "        # Forward pass (assuming the module accepts input and target)\n",
    "        training_loss = module(batch_X, batch_y)\n",
    "\n",
    "        # Backward pass and optimization\n",
    "        optimizer.step()\n",
    "\n",
    "        # Reset gradients\n",
    "        module.lazy_reset_grad()\n",
    "\n",
    "    # Print epoch statistics, etc.\n",
    "    if (epoch+1) % 10 == 0:\n",
    "        print(f'Epoch {epoch + 1}/{epochs}, Training Loss: {training_loss}')\n"
   ]
  },
  {
   "cell_type": "code",
   "execution_count": 29,
   "id": "5e94aeb5-a06b-42eb-aa26-5fe6e7ab114c",
   "metadata": {},
   "outputs": [],
   "source": [
    "CheckpointState.save_checkpoint(state, path_to_the_checkpoint_artifact)\n"
   ]
  },
  {
   "cell_type": "code",
   "execution_count": 30,
   "id": "97a7f79a-a5a8-4a0d-9332-bb3a651ce846",
   "metadata": {},
   "outputs": [
    {
     "data": {
      "text/plain": [
       "['onnx::loss::2']"
      ]
     },
     "execution_count": 30,
     "metadata": {},
     "output_type": "execute_result"
    }
   ],
   "source": [
    "module.output_names()"
   ]
  },
  {
   "cell_type": "code",
   "execution_count": 31,
   "id": "e21dac83-3542-44b9-bea2-eb5490ad8594",
   "metadata": {},
   "outputs": [],
   "source": [
    "# Assuming 'output' is the name of your model's output\n",
    "output_names = ['output']  # List of output names\n",
    "\n",
    "# Export the model for inferencing\n",
    "module.export_model_for_inferencing('inference.onnx', output_names)\n"
   ]
  },
  {
   "cell_type": "code",
   "execution_count": 32,
   "id": "8c15aecf-792b-4182-824c-7a182e305da5",
   "metadata": {},
   "outputs": [
    {
     "data": {
      "text/plain": [
       "(array([[[0.],\n",
       "         [0.],\n",
       "         [0.],\n",
       "         [0.],\n",
       "         [0.],\n",
       "         [0.],\n",
       "         [0.],\n",
       "         [0.],\n",
       "         [0.],\n",
       "         [0.],\n",
       "         [0.],\n",
       "         [0.],\n",
       "         [0.],\n",
       "         [0.],\n",
       "         [0.],\n",
       "         [0.]],\n",
       " \n",
       "        [[0.],\n",
       "         [0.],\n",
       "         [0.],\n",
       "         [0.],\n",
       "         [0.],\n",
       "         [0.],\n",
       "         [0.],\n",
       "         [0.],\n",
       "         [0.],\n",
       "         [0.],\n",
       "         [0.],\n",
       "         [0.],\n",
       "         [0.],\n",
       "         [0.],\n",
       "         [0.],\n",
       "         [1.]],\n",
       " \n",
       "        [[0.],\n",
       "         [0.],\n",
       "         [0.],\n",
       "         [0.],\n",
       "         [0.],\n",
       "         [0.],\n",
       "         [0.],\n",
       "         [0.],\n",
       "         [0.],\n",
       "         [0.],\n",
       "         [0.],\n",
       "         [0.],\n",
       "         [0.],\n",
       "         [0.],\n",
       "         [1.],\n",
       "         [2.]]], dtype=float32),\n",
       " array([1, 2, 0]))"
      ]
     },
     "execution_count": 32,
     "metadata": {},
     "output_type": "execute_result"
    }
   ],
   "source": [
    "X_train[0:3], y_train[0:3]"
   ]
  },
  {
   "cell_type": "code",
   "execution_count": 98,
   "id": "c7445738-0c41-47c5-8fa4-ebaa85554d6a",
   "metadata": {},
   "outputs": [],
   "source": [
    "import onnxruntime\n",
    "\n",
    "ort_session = onnxruntime.InferenceSession(\"inference_model.onnx\", providers=[\"CPUExecutionProvider\"])\n",
    "# ort_session = onnxruntime.InferenceSession(\"classification_model.onnx\", providers=[\"CPUExecutionProvider\"])\n",
    "\n",
    "\n",
    "ort_inputs = {ort_session.get_inputs()[0].name: X_train[0:5]}\n",
    "\n",
    "ort_outs = ort_session.run(None, ort_inputs)"
   ]
  },
  {
   "cell_type": "code",
   "execution_count": 99,
   "id": "7d1addc4-f553-4246-979b-313b26dd4a94",
   "metadata": {},
   "outputs": [
    {
     "data": {
      "text/plain": [
       "array([1, 2, 0, 1, 2])"
      ]
     },
     "execution_count": 99,
     "metadata": {},
     "output_type": "execute_result"
    }
   ],
   "source": [
    "ort_outs[0].argmax(axis=1)"
   ]
  },
  {
   "cell_type": "code",
   "execution_count": 100,
   "id": "0609cc26-3812-405f-b514-be675ebcd665",
   "metadata": {},
   "outputs": [
    {
     "data": {
      "text/plain": [
       "array([1, 2, 0, 1, 2])"
      ]
     },
     "execution_count": 100,
     "metadata": {},
     "output_type": "execute_result"
    }
   ],
   "source": [
    "y_train[0:5]"
   ]
  },
  {
   "cell_type": "code",
   "execution_count": null,
   "metadata": {},
   "outputs": [],
   "source": []
  },
  {
   "cell_type": "code",
   "execution_count": null,
   "metadata": {},
   "outputs": [],
   "source": []
  }
 ],
 "metadata": {
  "kernelspec": {
   "display_name": "Python 3 (ipykernel)",
   "language": "python",
   "name": "python3"
  },
  "language_info": {
   "codemirror_mode": {
    "name": "ipython",
    "version": 3
   },
   "file_extension": ".py",
   "mimetype": "text/x-python",
   "name": "python",
   "nbconvert_exporter": "python",
   "pygments_lexer": "ipython3",
   "version": "3.10.13"
  }
 },
 "nbformat": 4,
 "nbformat_minor": 5
}
