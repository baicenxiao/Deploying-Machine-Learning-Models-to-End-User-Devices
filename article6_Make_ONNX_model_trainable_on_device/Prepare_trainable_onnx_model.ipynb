{
 "cells": [
  {
   "cell_type": "code",
   "execution_count": 11,
   "id": "8f4f7a8e-0c25-4344-9cba-ec60ccd4e828",
   "metadata": {},
   "outputs": [],
   "source": [
    "import torch\n",
    "import torch.nn as nn\n",
    "import numpy as np\n",
    "import onnx\n",
    "import onnxruntime\n",
    "from onnxruntime.training import artifacts\n",
    "import torch.nn.functional as F\n"
   ]
  },
  {
   "cell_type": "code",
   "execution_count": 12,
   "id": "2c5056b1",
   "metadata": {},
   "outputs": [
    {
     "data": {
      "text/plain": [
       "('2.1.0', '1.14.1', '1.16.3')"
      ]
     },
     "execution_count": 12,
     "metadata": {},
     "output_type": "execute_result"
    }
   ],
   "source": [
    "torch.__version__, onnx.__version__, onnxruntime.__version__"
   ]
  },
  {
   "cell_type": "code",
   "execution_count": 13,
   "id": "22a6165f",
   "metadata": {},
   "outputs": [
    {
     "name": "stdout",
     "output_type": "stream",
     "text": [
      "['fc.weight', 'fc.bias', 'onnx::LSTM_109', 'onnx::LSTM_110', 'onnx::LSTM_111'] []\n",
      "my_output\n"
     ]
    }
   ],
   "source": [
    "path_to_forward_only_onnx_model = 'lstm_model.onnx'\n",
    "\n",
    "# Load the forward-only ONNX model\n",
    "model = onnx.load(path_to_forward_only_onnx_model)\n",
    "\n",
    "# Extract model's parameters\n",
    "all_params = [param.name for param in model.graph.initializer]\n",
    "\n",
    "trainable_layers = ['fc', 'onnx']\n",
    "requires_grad = [param for param in all_params if any(layer in param for layer in trainable_layers)]\n",
    "frozen_params = [param for param in all_params if param not in requires_grad]\n",
    "print(requires_grad, frozen_params)\n",
    "\n",
    "print(model.graph.output[0].name)"
   ]
  },
  {
   "cell_type": "code",
   "execution_count": null,
   "id": "187fea4b",
   "metadata": {},
   "outputs": [],
   "source": []
  },
  {
   "cell_type": "code",
   "execution_count": 14,
   "id": "1145e4db",
   "metadata": {},
   "outputs": [
    {
     "name": "stderr",
     "output_type": "stream",
     "text": [
      "2023-12-26 13:21:27,334 root [INFO] - Loss function enum provided: CrossEntropyLoss\n",
      "2023-12-26 13:21:27,336 root [DEBUG] - Building training block _TrainingBlock\n",
      "2023-12-26 13:21:27,336 root [DEBUG] - Building block: CrossEntropyLoss\n",
      "2023-12-26 13:21:27,346 root [DEBUG] - Building gradient graph for training block _TrainingBlock\n",
      "2023-12-26 13:21:27.319396 [I:onnxruntime:Default, constant_sharing.cc:256 ApplyImpl] Total shared scalar initializer count: 1\n",
      "2023-12-26 13:21:27,371 root [DEBUG] - The loss output is onnx::loss::8. The gradient graph will be built starting from onnx::loss::8_grad.\n",
      "2023-12-26 13:21:27,379 root [DEBUG] - Adding gradient accumulation nodes for training block _TrainingBlock\n",
      "2023-12-26 13:21:27,381 root [INFO] - Training model path training_artifacts/training_model.onnx already exists. Overwriting.\n",
      "2023-12-26 13:21:27,384 root [INFO] - Saved training model to training_artifacts/training_model.onnx\n",
      "2023-12-26 13:21:27,385 root [INFO] - Eval model path training_artifacts/eval_model.onnx already exists. Overwriting.\n",
      "2023-12-26 13:21:27,386 root [INFO] - Saved eval model to training_artifacts/eval_model.onnx\n",
      "2023-12-26 13:21:27,387 root [INFO] - Checkpoint path training_artifacts/checkpoint already exists. Overwriting.\n",
      "2023-12-26 13:21:27,389 root [INFO] - Saved checkpoint to training_artifacts/checkpoint\n",
      "2023-12-26 13:21:27,389 root [INFO] - Optimizer enum provided: AdamW\n",
      "2023-12-26 13:21:27,390 root [DEBUG] - Building forward block AdamW\n",
      "2023-12-26 13:21:27,391 root [DEBUG] - Building block: AdamWOptimizer\n",
      "2023-12-26 13:21:27,397 root [INFO] - Saved optimizer model to training_artifacts/optimizer_model.onnx\n"
     ]
    }
   ],
   "source": [
    "path_to_output_artifact_directory = 'training_artifacts'\n",
    "artifacts.generate_artifacts(model,\n",
    "                             requires_grad=requires_grad,\n",
    "                             frozen_params=frozen_params,\n",
    "                             loss=artifacts.LossType.CrossEntropyLoss,\n",
    "                             optimizer=artifacts.OptimType.AdamW,\n",
    "                             artifact_directory=path_to_output_artifact_directory)"
   ]
  },
  {
   "cell_type": "code",
   "execution_count": 5,
   "id": "b84dd748",
   "metadata": {},
   "outputs": [],
   "source": [
    "from onnxruntime.training.api import CheckpointState, Module, Optimizer\n",
    "\n",
    "# Assuming the paths are correctly defined\n",
    "path_to_the_checkpoint_artifact = 'training_artifacts/checkpoint'\n",
    "path_to_the_training_model = 'training_artifacts/training_model.onnx'\n",
    "path_to_the_eval_model = 'training_artifacts/eval_model.onnx'\n",
    "path_to_the_optimizer_model = 'training_artifacts/optimizer_model.onnx'\n",
    "\n",
    "# Load the checkpoint state\n",
    "state = CheckpointState.load_checkpoint(path_to_the_checkpoint_artifact)\n",
    "\n",
    "# Create the module\n",
    "module = Module(path_to_the_training_model,\n",
    "                state,\n",
    "                path_to_the_eval_model,\n",
    "                device=\"cpu\")\n",
    "\n",
    "optimizer = Optimizer(path_to_the_optimizer_model, module)"
   ]
  },
  {
   "cell_type": "code",
   "execution_count": 6,
   "id": "5b7714f6",
   "metadata": {},
   "outputs": [],
   "source": [
    "import numpy as np\n",
    "\n",
    "def generate_training_data(data_size):\n",
    "    # Generate random integers for input data X\n",
    "    X = np.random.uniform(0.0, 10.0, (data_size, 6))\n",
    "\n",
    "    # Compute output data y\n",
    "    y = (np.sum(X, axis=1) / 20)\n",
    "    y = y.astype(int)\n",
    "    # Compute Y as the sum of each row in X divided by 3\n",
    "\n",
    "    return torch.tensor(X, dtype=torch.float32), torch.tensor(y, dtype=torch.long)\n",
    "\n",
    "X, y = generate_training_data(500)\n",
    "\n",
    "X_train = X.detach().numpy().reshape(-1, 6, 1)\n",
    "y_train = y.detach().numpy()"
   ]
  },
  {
   "cell_type": "code",
   "execution_count": 7,
   "id": "3be1ab7d",
   "metadata": {},
   "outputs": [
    {
     "name": "stdout",
     "output_type": "stream",
     "text": [
      "Epoch 10/100, Training Loss: 0.11016654968261719\n",
      "Epoch 20/100, Training Loss: 0.04419594258069992\n",
      "Epoch 30/100, Training Loss: 0.050201013684272766\n",
      "Epoch 40/100, Training Loss: 0.05832836031913757\n",
      "Epoch 50/100, Training Loss: 0.049569305032491684\n",
      "Epoch 60/100, Training Loss: 0.027245810255408287\n",
      "Epoch 70/100, Training Loss: 0.023111190646886826\n",
      "Epoch 80/100, Training Loss: 0.015518329106271267\n",
      "Epoch 90/100, Training Loss: 0.030633224174380302\n",
      "Epoch 100/100, Training Loss: 0.01015745010226965\n"
     ]
    }
   ],
   "source": [
    "# Define epochs and batch size\n",
    "epochs = 100\n",
    "batch_size = 8  # You can adjust the batch size as needed\n",
    "\n",
    "# Training loop\n",
    "\n",
    "for epoch in range(epochs):\n",
    "    for i in range(0, len(X_train), batch_size):\n",
    "        # Extract batches\n",
    "        batch_X = X_train[i:i + batch_size]\n",
    "        batch_y = y_train[i:i + batch_size]\n",
    "\n",
    "        # Set the module to training mode\n",
    "        module.train()\n",
    "\n",
    "        # Forward pass (assuming the module accepts input and target)\n",
    "        training_loss = module(batch_X, batch_y)\n",
    "\n",
    "        # Backward pass and optimization\n",
    "        optimizer.step()\n",
    "\n",
    "        # Reset gradients\n",
    "        module.lazy_reset_grad()\n",
    "\n",
    "    # Print epoch statistics, etc.\n",
    "    if (epoch+1) % 10 == 0:\n",
    "        print(f'Epoch {epoch + 1}/{epochs}, Training Loss: {training_loss}')"
   ]
  },
  {
   "cell_type": "code",
   "execution_count": 8,
   "id": "16ab44bb",
   "metadata": {},
   "outputs": [],
   "source": [
    "CheckpointState.save_checkpoint(state, path_to_the_checkpoint_artifact)\n"
   ]
  },
  {
   "cell_type": "code",
   "execution_count": 10,
   "id": "5fda1f82-746b-484b-beeb-bb3885f55b71",
   "metadata": {},
   "outputs": [
    {
     "name": "stdout",
     "output_type": "stream",
     "text": [
      "[1 2 1 1 2] [1 2 1 1 2]\n"
     ]
    }
   ],
   "source": [
    "# Assuming 'my_output' is the name of your onnx model's output\n",
    "output_names = ['my_output']  # List of output names\n",
    "\n",
    "# Export the model for inferencing\n",
    "module.export_model_for_inferencing('inference_model.onnx', output_names)\n",
    "\n",
    "import onnxruntime\n",
    "\n",
    "ort_session = onnxruntime.InferenceSession(\"inference_model.onnx\", providers=[\"CPUExecutionProvider\"])\n",
    "# ort_session = onnxruntime.InferenceSession(\"classification_model.onnx\", providers=[\"CPUExecutionProvider\"])\n",
    "\n",
    "\n",
    "ort_inputs = {ort_session.get_inputs()[0].name: X_train[10:15]}\n",
    "\n",
    "ort_outs = ort_session.run(None, ort_inputs)\n",
    "\n",
    "print(ort_outs[0].argmax(axis=1), y_train[10:15])"
   ]
  },
  {
   "cell_type": "code",
   "execution_count": null,
   "metadata": {},
   "outputs": [],
   "source": []
  }
 ],
 "metadata": {
  "kernelspec": {
   "display_name": "Python 3 (ipykernel)",
   "language": "python",
   "name": "python3"
  },
  "language_info": {
   "codemirror_mode": {
    "name": "ipython",
    "version": 3
   },
   "file_extension": ".py",
   "mimetype": "text/x-python",
   "name": "python",
   "nbconvert_exporter": "python",
   "pygments_lexer": "ipython3",
   "version": "3.10.13"
  }
 },
 "nbformat": 4,
 "nbformat_minor": 5
}
