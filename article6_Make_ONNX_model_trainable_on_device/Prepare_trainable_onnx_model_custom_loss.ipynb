{
 "cells": [
  {
   "cell_type": "code",
   "execution_count": 1,
   "id": "8f4f7a8e-0c25-4344-9cba-ec60ccd4e828",
   "metadata": {},
   "outputs": [],
   "source": [
    "import torch\n",
    "import torch.nn as nn\n",
    "import numpy as np\n",
    "import onnx\n",
    "import onnxruntime\n",
    "from onnxruntime.training import artifacts\n",
    "import torch.nn.functional as F\n"
   ]
  },
  {
   "cell_type": "code",
   "execution_count": 2,
   "id": "5fda1f82-746b-484b-beeb-bb3885f55b71",
   "metadata": {},
   "outputs": [
    {
     "data": {
      "text/plain": [
       "('2.1.0', '1.14.1', '1.16.3')"
      ]
     },
     "execution_count": 2,
     "metadata": {},
     "output_type": "execute_result"
    }
   ],
   "source": [
    "torch.__version__, onnx.__version__, onnxruntime.__version__"
   ]
  },
  {
   "cell_type": "code",
   "execution_count": 3,
   "metadata": {},
   "outputs": [],
   "source": [
    "def generate_training_data(data_size):\n",
    "    # Generate random integers for input data X\n",
    "    X = np.random.uniform(0.0, 10.0, (data_size, 6))\n",
    "\n",
    "    # Compute output data y\n",
    "    y1 = (np.sum(X, axis=1) / 20)\n",
    "    y1 = y1.astype(int)\n",
    "\n",
    "    y2 = (np.sum(X, axis=1) / 10)\n",
    "    y2 = y2.astype(int)\n",
    "    # Compute Y as the sum of each row in X divided by 3\n",
    "\n",
    "    return torch.tensor(X, dtype=torch.float32), torch.tensor(y1, dtype=torch.long), torch.tensor(y2, dtype=torch.long)"
   ]
  },
  {
   "cell_type": "code",
   "execution_count": 8,
   "id": "0dce653c",
   "metadata": {},
   "outputs": [],
   "source": [
    "class LSTMNumberPredictor(nn.Module):\n",
    "    def __init__(self, num_classes1, num_classes2, hidden_dim, num_layers):\n",
    "        super(LSTMNumberPredictor, self).__init__()\n",
    "        self.hidden_dim = hidden_dim\n",
    "        self.num_layers = num_layers\n",
    "\n",
    "        # LSTM layer\n",
    "        self.lstm = nn.LSTM(input_size=1, hidden_size=hidden_dim, num_layers=num_layers, batch_first=True)\n",
    "        \n",
    "        # Fully connected layer\n",
    "        self.fc1 = nn.Linear(hidden_dim, num_classes1)\n",
    "        self.fc2 = nn.Linear(hidden_dim, num_classes2)\n",
    "    \n",
    "    def forward(self, x):\n",
    "        # Initializing hidden state for first input\n",
    "        h0 = torch.zeros(self.num_layers, x.size(0), self.hidden_dim)\n",
    "        c0 = torch.zeros(self.num_layers, x.size(0), self.hidden_dim)\n",
    "        \n",
    "        # Forward propagate LSTM\n",
    "        out, _ = self.lstm(x, (h0, c0))  # out: tensor of shape (batch_size, seq_length, hidden_dim)\n",
    "        # out, _ = self.lstm(x)\n",
    "        \n",
    "        # Decode the hidden state of the last time step\n",
    "        out1 = self.fc1(out[:, -1, :])\n",
    "        out2 = self.fc2(out[:, -1, :])\n",
    "        return out1, out2\n",
    "\n",
    "# Example usage:\n",
    "model = LSTMNumberPredictor(num_classes1=3, num_classes2=6, hidden_dim=50, num_layers=1)"
   ]
  },
  {
   "cell_type": "code",
   "execution_count": 9,
   "metadata": {},
   "outputs": [],
   "source": [
    "import torch.optim as optim\n",
    "\n",
    "# Parameters\n",
    "data_size = 500  # Length of the subsequences\n",
    "\n",
    "# Generate data\n",
    "X, y1, y2 = generate_training_data(data_size)\n",
    "\n",
    "X_train = X[:400]\n",
    "y_train1 = y1[:400]\n",
    "y_train2 = y2[:400]\n",
    "X_test = X[400:]\n",
    "y_test1 = y1[400:]\n",
    "y_test2 = y2[400:]"
   ]
  },
  {
   "cell_type": "code",
   "execution_count": 10,
   "id": "c2d58b0b",
   "metadata": {},
   "outputs": [],
   "source": [
    "learning_rate = 0.001\n",
    "num_epochs = 300     # Number of epochs for training\n",
    "\n",
    "\n",
    "# Loss and optimizer\n",
    "criterion = nn.CrossEntropyLoss()\n",
    "optimizer = optim.Adam(model.parameters(), lr=learning_rate)"
   ]
  },
  {
   "cell_type": "code",
   "execution_count": 11,
   "metadata": {},
   "outputs": [
    {
     "name": "stdout",
     "output_type": "stream",
     "text": [
      "Epoch [100/300], Training Loss: 1.3704, Testing Loss: 1.4296\n",
      "Epoch [200/300], Training Loss: 0.5470, Testing Loss: 0.5380\n",
      "Epoch [300/300], Training Loss: 0.2967, Testing Loss: 0.3233\n"
     ]
    }
   ],
   "source": [
    "# Reshape input suitable for LSTM (batch_size, seq_length, input_size)\n",
    "X_train = X_train.unsqueeze(-1)\n",
    "X_test = X_test.unsqueeze(-1)\n",
    "\n",
    "\n",
    "# Training loop\n",
    "for epoch in range(num_epochs):\n",
    "    model.train()\n",
    "    optimizer.zero_grad()\n",
    "\n",
    "    # Forward pass\n",
    "    outputs1, outputs2 = model(X_train)\n",
    "    loss_train = criterion(outputs1, y_train1) + criterion(outputs2, y_train2)\n",
    "\n",
    "    outputs_test1, outputs_test2 = model(X_test)\n",
    "    loss_test = criterion(outputs_test1, y_test1) + criterion(outputs_test2, y_test2)\n",
    "\n",
    "    # Backward and optimize\n",
    "    loss_train.backward()\n",
    "    optimizer.step()\n",
    "\n",
    "    if (epoch+1) % 100 == 0:\n",
    "        print(f'Epoch [{epoch+1}/{num_epochs}], Training Loss: {loss_train.item():.4f}, Testing Loss: {loss_test.item():.4f}')\n"
   ]
  },
  {
   "cell_type": "code",
   "execution_count": 12,
   "id": "490591d1",
   "metadata": {},
   "outputs": [],
   "source": [
    "example_input_for_trace = X_train[:1]\n"
   ]
  },
  {
   "cell_type": "code",
   "execution_count": 13,
   "id": "6b52f2c5",
   "metadata": {},
   "outputs": [
    {
     "name": "stderr",
     "output_type": "stream",
     "text": [
      "/opt/homebrew/anaconda3/envs/onnx_on_device/lib/python3.10/site-packages/torch/onnx/utils.py:2078: UserWarning: Provided key my_output for dynamic axes is not a valid input/output name\n",
      "  warnings.warn(\n",
      "/opt/homebrew/anaconda3/envs/onnx_on_device/lib/python3.10/site-packages/torch/onnx/symbolic_opset9.py:4661: UserWarning: Exporting a model to ONNX with a batch_size other than 1, with a variable length with LSTM can cause an error when running the ONNX model with a different batch size. Make sure to save the model with a batch size of 1, or define the initial states (h0/c0) as inputs of the model. \n",
      "  warnings.warn(\n"
     ]
    }
   ],
   "source": [
    "\n",
    "# Define input / output names\n",
    "input_names = [\"seq_input\"]\n",
    "output_names = [\"my_output1\", \"my_output2\"]\n",
    "\n",
    "# Convert the PyTorch model to ONNX\n",
    "torch.onnx.export(model,\n",
    "                  (example_input_for_trace,),\n",
    "                  \"lstm_model.onnx\",\n",
    "                  verbose=False,\n",
    "                  input_names=input_names,\n",
    "                  output_names=output_names,\n",
    "                  dynamic_axes={'seq_input' : {0: 'batch'},    # variable length axes\n",
    "                                'my_output' : {0: 'batch'},\n",
    "                                'my_output2' : {0: 'batch'}},\n",
    "                                )"
   ]
  },
  {
   "cell_type": "code",
   "execution_count": 14,
   "id": "d1e8c5e7",
   "metadata": {},
   "outputs": [],
   "source": [
    "import onnx\n",
    "import onnxruntime as ort\n",
    "\n",
    "# Load the ONNX model\n",
    "model = onnx.load(\"lstm_model.onnx\")\n",
    "onnx.checker.check_model(model)\n",
    "\n",
    "ort_session = ort.InferenceSession(\"lstm_model.onnx\")\n",
    "\n",
    "seq = example_input_for_trace[:1].numpy()\n",
    "\n",
    "onnx_pred = ort_session.run(\n",
    "    [\"my_output1\", \"my_output2\"],\n",
    "    {\"seq_input\": seq},\n",
    ")"
   ]
  },
  {
   "cell_type": "code",
   "execution_count": 15,
   "id": "f62b9de2",
   "metadata": {},
   "outputs": [
    {
     "data": {
      "text/plain": [
       "[array([[-3.696101 ,  2.9922402, -0.6057701]], dtype=float32),\n",
       " array([[-3.5088613 , -3.4856412 ,  0.40965787,  4.0779767 ,  0.92218184,\n",
       "         -2.6109126 ]], dtype=float32)]"
      ]
     },
     "execution_count": 15,
     "metadata": {},
     "output_type": "execute_result"
    }
   ],
   "source": [
    "onnx_pred"
   ]
  },
  {
   "cell_type": "code",
   "execution_count": 17,
   "id": "8cbe1d18-b92c-4bfc-aba1-e38bc00adb31",
   "metadata": {},
   "outputs": [],
   "source": [
    "# Sample input for the model\n",
    "sample_input = X_train[:3]"
   ]
  },
  {
   "cell_type": "code",
   "execution_count": 18,
   "id": "c94c3e37-ff30-4ade-9f3b-ae093cd81af8",
   "metadata": {},
   "outputs": [],
   "source": [
    "\n",
    "# Assuming the path to the forward-only ONNX model is provided\n",
    "path_to_forward_only_onnx_model = 'lstm_model.onnx'\n",
    "\n",
    "# Load the forward-only ONNX model\n",
    "model = onnx.load(path_to_forward_only_onnx_model)\n",
    "\n",
    "# Extract model's parameters\n",
    "all_params = [param.name for param in model.graph.initializer]"
   ]
  },
  {
   "cell_type": "code",
   "execution_count": 19,
   "id": "a5f817c9",
   "metadata": {},
   "outputs": [
    {
     "data": {
      "text/plain": [
       "[name: \"my_output1\"\n",
       "type {\n",
       "  tensor_type {\n",
       "    elem_type: 1\n",
       "    shape {\n",
       "      dim {\n",
       "        dim_param: \"Gemmmy_output1_dim_0\"\n",
       "      }\n",
       "      dim {\n",
       "        dim_value: 3\n",
       "      }\n",
       "    }\n",
       "  }\n",
       "}\n",
       ", name: \"my_output2\"\n",
       "type {\n",
       "  tensor_type {\n",
       "    elem_type: 1\n",
       "    shape {\n",
       "      dim {\n",
       "        dim_param: \"batch\"\n",
       "      }\n",
       "      dim {\n",
       "        dim_value: 6\n",
       "      }\n",
       "    }\n",
       "  }\n",
       "}\n",
       "]"
      ]
     },
     "execution_count": 19,
     "metadata": {},
     "output_type": "execute_result"
    }
   ],
   "source": [
    "model.graph.output"
   ]
  },
  {
   "cell_type": "code",
   "execution_count": 20,
   "id": "2d38897d-1479-4b92-a3a6-3d978523b158",
   "metadata": {},
   "outputs": [
    {
     "data": {
      "text/plain": [
       "['fc1.weight',\n",
       " 'fc1.bias',\n",
       " 'fc2.weight',\n",
       " 'fc2.bias',\n",
       " 'onnx::LSTM_112',\n",
       " 'onnx::LSTM_113',\n",
       " 'onnx::LSTM_114']"
      ]
     },
     "execution_count": 20,
     "metadata": {},
     "output_type": "execute_result"
    }
   ],
   "source": [
    "all_params"
   ]
  },
  {
   "cell_type": "code",
   "execution_count": 21,
   "id": "85a7f1c8-582d-4263-8a33-7ebc57360586",
   "metadata": {},
   "outputs": [
    {
     "data": {
      "text/plain": [
       "<bound method TrainingBlock.requires_grad of <__main__.LSTMWithLoss object at 0x16a573ee0>>"
      ]
     },
     "execution_count": 21,
     "metadata": {},
     "output_type": "execute_result"
    }
   ],
   "source": [
    "import onnxruntime.training.onnxblock as onnxblock\n",
    "from onnxruntime.training import artifacts\n",
    "\n",
    "class WeightedAverageLoss(onnxblock.Block):\n",
    "    def __init__(self):\n",
    "        self._loss1 = onnxblock.loss.CrossEntropyLoss()\n",
    "        self._loss2 = onnxblock.loss.CrossEntropyLoss()\n",
    "        self._w1 = onnxblock.blocks.Constant(0.9)\n",
    "        self._w2 = onnxblock.blocks.Constant(0.0)\n",
    "        self._add = onnxblock.blocks.Add()\n",
    "        self._mul = onnxblock.blocks.Mul()\n",
    "\n",
    "    def build(self, loss_input_name1, loss_input_name2):\n",
    "        # The build method defines how the block should be stacked on top of\n",
    "        # loss_input_name1 and loss_input_name2\n",
    "\n",
    "        # Returns weighted average of the two losses\n",
    "        print('loss_input_name1', '--------------', loss_input_name1)\n",
    "        print('loss_input_name2', '--------------', loss_input_name2)\n",
    "        return self._add(\n",
    "            self._mul(self._w1(), self._loss1(loss_input_name1, labels_name=\"target1\")),\n",
    "            self._mul(self._w2(), self._loss2(loss_input_name2, labels_name=\"target2\"))\n",
    "        )\n",
    "\n",
    "\n",
    "# class LSTMWithLoss(onnxblock.TrainingBlock):\n",
    "#     def __init__(self):\n",
    "#         super().__init__()\n",
    "#         self.loss = WeightedAverageLoss()\n",
    "\n",
    "#     def build(self, output_name1, output_name2):\n",
    "#         return self.loss(output_name1, output_name2)\n",
    "    \n",
    "# lstm_with_loss = LSTMWithLoss()\n",
    "    \n",
    " # define the loss function\n",
    "class CustomCELoss(onnxblock.Block):\n",
    "     def __init__(self):\n",
    "         super().__init__()\n",
    "         self.celoss = onnxblock.loss.CrossEntropyLoss()\n",
    "\n",
    "     def build(self, logits, *args):\n",
    "         return self.celoss(logits)\n",
    "\n",
    "\n",
    "class LSTMWithLoss(onnxblock.TrainingBlock):\n",
    "    def __init__(self):\n",
    "        super().__init__()\n",
    "        self.loss = onnxblock.loss.CrossEntropyLoss()\n",
    "\n",
    "    def build(self, output_name):\n",
    "        return self.loss(output_name)\n",
    "    \n",
    "lstm_with_loss = LSTMWithLoss()\n",
    "lstm_with_loss.requires_grad"
   ]
  },
  {
   "cell_type": "code",
   "execution_count": 22,
   "id": "1dbe13ea",
   "metadata": {},
   "outputs": [],
   "source": [
    "# name_list_loss = [output.name for output in model.graph.output]"
   ]
  },
  {
   "cell_type": "code",
   "execution_count": 23,
   "id": "b21fe986",
   "metadata": {},
   "outputs": [],
   "source": [
    "# name_list_loss"
   ]
  },
  {
   "cell_type": "code",
   "execution_count": 24,
   "metadata": {},
   "outputs": [],
   "source": [
    "# with onnxblock.base(model):\n",
    " \n",
    "#     # _ = lstm_with_loss(*[output.name for output in model.graph.output])\n",
    "#     _ = lstm_with_loss(*['my_output'])\n",
    "#     # eval_model = model_accessor.eval_model\n",
    "#     training_model, eval_model = lstm_with_loss.to_model_proto()"
   ]
  },
  {
   "cell_type": "code",
   "execution_count": 25,
   "id": "e8c80598",
   "metadata": {},
   "outputs": [],
   "source": [
    "# lstm_with_loss.parameters()"
   ]
  },
  {
   "cell_type": "code",
   "execution_count": 26,
   "id": "ac54fe7c",
   "metadata": {},
   "outputs": [],
   "source": [
    "# # Build the optimizer graph\n",
    "# optimizer = onnxblock.optim.AdamW()\n",
    "# # with onnxblock.onnx_model() as accessor:\n",
    "# with onnxblock.empty_base() as accessor:\n",
    "#     _ = optimizer(lstm_with_loss.parameters())\n",
    "#     # optimizer_model = accessor.model\n",
    "#     optimizer_model = optimizer.to_model_proto()\n",
    "\n",
    "\n",
    "# path_to_the_checkpoint_artifact = 'training_artifacts/checkpoint'\n",
    "# path_to_the_training_model = 'training_artifacts/training_model.onnx'\n",
    "# path_to_the_eval_model = 'training_artifacts/eval_model.onnx'\n",
    "# path_to_the_optimizer_model = 'training_artifacts/optimizer_model.onnx'\n",
    "# # Create the training artifacts\n",
    "# onnx.save(training_model, path_to_the_training_model)\n",
    "\n",
    "# onnx.save(eval_model, path_to_the_eval_model)\n",
    "\n",
    "# onnx.save(optimizer_model, path_to_the_optimizer_model)\n",
    "\n",
    "# trainable_params, non_trainable_params = lstm_with_loss.parameters()\n",
    "# onnxblock.save_checkpoint((trainable_params, non_trainable_params), path_to_the_checkpoint_artifact)"
   ]
  },
  {
   "cell_type": "code",
   "execution_count": 27,
   "id": "45ba44e5",
   "metadata": {},
   "outputs": [],
   "source": [
    "# training_model.graph"
   ]
  },
  {
   "cell_type": "code",
   "execution_count": 28,
   "id": "094a59ff-acc9-4210-88d4-afbf6fa50f8c",
   "metadata": {},
   "outputs": [],
   "source": [
    "trainable_layers = ['fc', 'onnx']\n",
    "requires_grad = [param for param in all_params if any(layer in param for layer in trainable_layers)]\n",
    "frozen_params = [param for param in all_params if param not in requires_grad]\n"
   ]
  },
  {
   "cell_type": "code",
   "execution_count": 29,
   "metadata": {},
   "outputs": [
    {
     "data": {
      "text/plain": [
       "(['fc1.weight',\n",
       "  'fc1.bias',\n",
       "  'fc2.weight',\n",
       "  'fc2.bias',\n",
       "  'onnx::LSTM_112',\n",
       "  'onnx::LSTM_113',\n",
       "  'onnx::LSTM_114'],\n",
       " [])"
      ]
     },
     "execution_count": 29,
     "metadata": {},
     "output_type": "execute_result"
    }
   ],
   "source": [
    "requires_grad, frozen_params"
   ]
  },
  {
   "cell_type": "code",
   "execution_count": 30,
   "metadata": {},
   "outputs": [
    {
     "data": {
      "text/plain": [
       "[name: \"my_output1\"\n",
       "type {\n",
       "  tensor_type {\n",
       "    elem_type: 1\n",
       "    shape {\n",
       "      dim {\n",
       "        dim_param: \"Gemmmy_output1_dim_0\"\n",
       "      }\n",
       "      dim {\n",
       "        dim_value: 3\n",
       "      }\n",
       "    }\n",
       "  }\n",
       "}\n",
       ", name: \"my_output2\"\n",
       "type {\n",
       "  tensor_type {\n",
       "    elem_type: 1\n",
       "    shape {\n",
       "      dim {\n",
       "        dim_param: \"batch\"\n",
       "      }\n",
       "      dim {\n",
       "        dim_value: 6\n",
       "      }\n",
       "    }\n",
       "  }\n",
       "}\n",
       "]"
      ]
     },
     "execution_count": 30,
     "metadata": {},
     "output_type": "execute_result"
    }
   ],
   "source": [
    "model.graph.output"
   ]
  },
  {
   "cell_type": "code",
   "execution_count": 31,
   "metadata": {},
   "outputs": [
    {
     "name": "stderr",
     "output_type": "stream",
     "text": [
      "2023-12-25 21:31:38,237 root [INFO] - Custom loss block provided: WeightedAverageLoss\n",
      "2023-12-25 21:31:38,239 root [DEBUG] - Building training block _TrainingBlock\n",
      "2023-12-25 21:31:38,240 root [DEBUG] - Building block: WeightedAverageLoss\n",
      "2023-12-25 21:31:38,240 root [DEBUG] - Building block: Constant\n",
      "2023-12-25 21:31:38,244 root [DEBUG] - Building block: CrossEntropyLoss\n",
      "2023-12-25 21:31:38,245 root [DEBUG] - Building block: Mul\n",
      "2023-12-25 21:31:38,247 root [DEBUG] - Building block: Constant\n",
      "2023-12-25 21:31:38,248 root [DEBUG] - Building block: CrossEntropyLoss\n",
      "2023-12-25 21:31:38,249 root [DEBUG] - Building block: Mul\n",
      "2023-12-25 21:31:38,250 root [DEBUG] - Building block: Add\n",
      "2023-12-25 21:31:38,255 root [DEBUG] - Building gradient graph for training block _TrainingBlock\n",
      "2023-12-25 21:31:38.260842 [I:onnxruntime:Default, constant_sharing.cc:256 ApplyImpl] Total shared scalar initializer count: 1\n",
      "2023-12-25 21:31:38,264 root [DEBUG] - The loss output is onnx::add_output::15. The gradient graph will be built starting from onnx::add_output::15_grad.\n",
      "2023-12-25 21:31:38.269700 [W:onnxruntime:Default, graph.cc:108 MergeShapeInfo] Error merging shape info for output. 'onnx::mul_output::6_grad' source:{} target:{1}. Falling back to lenient merge.\n",
      "2023-12-25 21:31:38,272 root [DEBUG] - Adding gradient accumulation nodes for training block _TrainingBlock\n",
      "2023-12-25 21:31:38.269738 [W:onnxruntime:Default, graph.cc:108 MergeShapeInfo] Error merging shape info for output. 'onnx::mul_output::13_grad' source:{} target:{1}. Falling back to lenient merge.\n",
      "2023-12-25 21:31:38,275 root [INFO] - Training model path training_artifacts/training_model.onnx already exists. Overwriting.\n",
      "2023-12-25 21:31:38,279 root [INFO] - Saved training model to training_artifacts/training_model.onnx\n",
      "2023-12-25 21:31:38,279 root [INFO] - Eval model path training_artifacts/eval_model.onnx already exists. Overwriting.\n",
      "2023-12-25 21:31:38,282 root [INFO] - Saved eval model to training_artifacts/eval_model.onnx\n",
      "2023-12-25 21:31:38,283 root [INFO] - Checkpoint path training_artifacts/checkpoint already exists. Overwriting.\n",
      "2023-12-25 21:31:38,284 root [INFO] - Saved checkpoint to training_artifacts/checkpoint\n",
      "2023-12-25 21:31:38,284 root [INFO] - Optimizer enum provided: AdamW\n",
      "2023-12-25 21:31:38,285 root [DEBUG] - Building forward block AdamW\n",
      "2023-12-25 21:31:38,285 root [DEBUG] - Building block: AdamWOptimizer\n",
      "2023-12-25 21:31:38,287 root [INFO] - Saved optimizer model to training_artifacts/optimizer_model.onnx\n"
     ]
    },
    {
     "name": "stdout",
     "output_type": "stream",
     "text": [
      "loss_input_name1 -------------- my_output1\n",
      "loss_input_name2 -------------- my_output2\n"
     ]
    },
    {
     "data": {
      "text/plain": [
       "'training_artifacts'"
      ]
     },
     "execution_count": 31,
     "metadata": {},
     "output_type": "execute_result"
    }
   ],
   "source": [
    "\n",
    "# Generate the training artifacts\n",
    "path_to_output_artifact_directory = 'training_artifacts'\n",
    "artifacts.generate_artifacts(model,\n",
    "                             requires_grad=requires_grad,\n",
    "                             frozen_params=frozen_params,\n",
    "                            #  loss=artifacts.LossType.CrossEntropyLoss,\n",
    "                            # loss = CustomCELoss(),\n",
    "                            loss = WeightedAverageLoss(),\n",
    "                             optimizer=artifacts.OptimType.AdamW,\n",
    "                             artifact_directory=path_to_output_artifact_directory)\n",
    "\n",
    "# Return the path to output artifact directory\n",
    "path_to_output_artifact_directory"
   ]
  },
  {
   "cell_type": "code",
   "execution_count": 32,
   "id": "be18816b-7c28-48ae-8132-1fb3a829add0",
   "metadata": {},
   "outputs": [],
   "source": [
    "from onnxruntime.training.api import CheckpointState, Module, Optimizer\n",
    "import torch\n",
    "\n",
    "# Assuming the paths are correctly defined\n",
    "path_to_the_checkpoint_artifact = 'training_artifacts/checkpoint'\n",
    "path_to_the_training_model = 'training_artifacts/training_model.onnx'\n",
    "path_to_the_eval_model = 'training_artifacts/eval_model.onnx'\n",
    "path_to_the_optimizer_model = 'training_artifacts/optimizer_model.onnx'\n",
    "\n",
    "# Load the checkpoint state\n",
    "state = CheckpointState.load_checkpoint(path_to_the_checkpoint_artifact)\n",
    "\n",
    "# Create the module\n",
    "module = Module(path_to_the_training_model,\n",
    "                state,\n",
    "                path_to_the_eval_model,\n",
    "                device=\"cpu\")\n",
    "\n",
    "optimizer = Optimizer(path_to_the_optimizer_model, module)"
   ]
  },
  {
   "cell_type": "code",
   "execution_count": 33,
   "id": "d8b56821-ba10-486f-92ca-c6ec94ae76e4",
   "metadata": {},
   "outputs": [],
   "source": [
    "import numpy as np\n",
    "\n",
    "X, y1, y2 = generate_training_data(500)\n",
    "\n",
    "X_train = X.detach().numpy().reshape(-1, 6, 1)\n",
    "y_train1 = y1.detach().numpy()\n",
    "y_train2 = y2.detach().numpy()\n"
   ]
  },
  {
   "cell_type": "code",
   "execution_count": 34,
   "metadata": {},
   "outputs": [
    {
     "name": "stdout",
     "output_type": "stream",
     "text": [
      "Epoch 10/100, Training Loss: [0.00605627]\n",
      "Epoch 20/100, Training Loss: [0.00095272]\n",
      "Epoch 30/100, Training Loss: [0.00043647]\n",
      "Epoch 40/100, Training Loss: [0.00013762]\n",
      "Epoch 50/100, Training Loss: [6.466161e-05]\n",
      "Epoch 60/100, Training Loss: [4.309988e-05]\n",
      "Epoch 70/100, Training Loss: [3.0173167e-05]\n",
      "Epoch 80/100, Training Loss: [1.4617692e-05]\n",
      "Epoch 90/100, Training Loss: [1.7890048e-05]\n",
      "Epoch 100/100, Training Loss: [1.3571763e-05]\n"
     ]
    }
   ],
   "source": [
    "\n",
    "# Define epochs and batch size\n",
    "epochs = 100\n",
    "batch_size = 8  # You can adjust the batch size as needed\n",
    "\n",
    "# Training loop\n",
    "\n",
    "for epoch in range(epochs):\n",
    "    for i in range(0, len(X_train), batch_size):\n",
    "        # Extract batches\n",
    "        batch_X = X_train[i:i + batch_size]\n",
    "        batch_y1 = y_train1[i:i + batch_size]\n",
    "        batch_y2 = y_train2[i:i + batch_size]\n",
    "\n",
    "        # Set the module to training mode\n",
    "        module.train()\n",
    "\n",
    "        # Forward pass (assuming the module accepts input and target)\n",
    "        training_loss = module(batch_X, batch_y1, batch_y2)\n",
    "\n",
    "        # Backward pass and optimization\n",
    "        optimizer.step()\n",
    "\n",
    "        # Reset gradients\n",
    "        module.lazy_reset_grad()\n",
    "\n",
    "    # Print epoch statistics, etc.\n",
    "    if (epoch+1) % 10 == 0:\n",
    "        print(f'Epoch {epoch + 1}/{epochs}, Training Loss: {training_loss}')\n"
   ]
  },
  {
   "cell_type": "code",
   "execution_count": 47,
   "id": "5e94aeb5-a06b-42eb-aa26-5fe6e7ab114c",
   "metadata": {},
   "outputs": [],
   "source": [
    "CheckpointState.save_checkpoint(state, path_to_the_checkpoint_artifact)\n"
   ]
  },
  {
   "cell_type": "code",
   "execution_count": 35,
   "id": "97a7f79a-a5a8-4a0d-9332-bb3a651ce846",
   "metadata": {},
   "outputs": [
    {
     "data": {
      "text/plain": [
       "['onnx::add_output::15']"
      ]
     },
     "execution_count": 35,
     "metadata": {},
     "output_type": "execute_result"
    }
   ],
   "source": [
    "module.output_names()"
   ]
  },
  {
   "cell_type": "code",
   "execution_count": 37,
   "id": "e21dac83-3542-44b9-bea2-eb5490ad8594",
   "metadata": {},
   "outputs": [],
   "source": [
    "# Assuming 'output' is the name of your model's output\n",
    "output_names = ['my_output1', 'my_output2']  # List of output names\n",
    "\n",
    "# Export the model for inferencing\n",
    "module.export_model_for_inferencing('inference_model.onnx', output_names)\n"
   ]
  },
  {
   "cell_type": "code",
   "execution_count": 38,
   "id": "c7445738-0c41-47c5-8fa4-ebaa85554d6a",
   "metadata": {},
   "outputs": [],
   "source": [
    "import onnxruntime\n",
    "\n",
    "ort_session = onnxruntime.InferenceSession(\"inference_model.onnx\", providers=[\"CPUExecutionProvider\"])\n",
    "# ort_session = onnxruntime.InferenceSession(\"classification_model.onnx\", providers=[\"CPUExecutionProvider\"])\n",
    "\n",
    "\n",
    "ort_inputs = {ort_session.get_inputs()[0].name: X_train[0:5]}\n",
    "\n",
    "ort_outs = ort_session.run(None, ort_inputs)"
   ]
  },
  {
   "cell_type": "code",
   "execution_count": 40,
   "id": "7d1addc4-f553-4246-979b-313b26dd4a94",
   "metadata": {},
   "outputs": [
    {
     "data": {
      "text/plain": [
       "array([1, 0, 1, 2, 1])"
      ]
     },
     "execution_count": 40,
     "metadata": {},
     "output_type": "execute_result"
    }
   ],
   "source": [
    "ort_outs[0].argmax(axis=1)"
   ]
  },
  {
   "cell_type": "code",
   "execution_count": 41,
   "id": "0609cc26-3812-405f-b514-be675ebcd665",
   "metadata": {},
   "outputs": [
    {
     "data": {
      "text/plain": [
       "array([1, 0, 1, 2, 1])"
      ]
     },
     "execution_count": 41,
     "metadata": {},
     "output_type": "execute_result"
    }
   ],
   "source": [
    "y_train1[0:5]"
   ]
  },
  {
   "cell_type": "code",
   "execution_count": 42,
   "metadata": {},
   "outputs": [
    {
     "data": {
      "text/plain": [
       "array([3, 1, 3, 4, 3])"
      ]
     },
     "execution_count": 42,
     "metadata": {},
     "output_type": "execute_result"
    }
   ],
   "source": [
    "ort_outs[1].argmax(axis=1)"
   ]
  },
  {
   "cell_type": "code",
   "execution_count": 43,
   "metadata": {},
   "outputs": [
    {
     "data": {
      "text/plain": [
       "array([2, 1, 3, 4, 3])"
      ]
     },
     "execution_count": 43,
     "metadata": {},
     "output_type": "execute_result"
    }
   ],
   "source": [
    "y_train2[0:5]"
   ]
  }
 ],
 "metadata": {
  "kernelspec": {
   "display_name": "Python 3 (ipykernel)",
   "language": "python",
   "name": "python3"
  },
  "language_info": {
   "codemirror_mode": {
    "name": "ipython",
    "version": 3
   },
   "file_extension": ".py",
   "mimetype": "text/x-python",
   "name": "python",
   "nbconvert_exporter": "python",
   "pygments_lexer": "ipython3",
   "version": "3.10.13"
  }
 },
 "nbformat": 4,
 "nbformat_minor": 5
}
